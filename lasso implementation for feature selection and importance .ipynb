{
 "cells": [
  {
   "cell_type": "code",
   "execution_count": 1,
   "id": "5c0eafc5",
   "metadata": {},
   "outputs": [],
   "source": [
    "import warnings\n",
    "warnings.filterwarnings('ignore')"
   ]
  },
  {
   "cell_type": "code",
   "execution_count": 2,
   "id": "3bb0fe25",
   "metadata": {},
   "outputs": [],
   "source": [
    "# importing the necessary files\n",
    "import pickle\n",
    "import numpy as np\n",
    "import pandas as pd\n",
    "import matplotlib.pyplot as plt\n",
    "from sklearn.preprocessing import MinMaxScaler\n",
    "from sklearn.pipeline import Pipeline\n",
    "from sklearn.linear_model import Lasso\n",
    "from sklearn.model_selection import GridSearchCV\n",
    "from sklearn.metrics import make_scorer, accuracy_score"
   ]
  },
  {
   "cell_type": "code",
   "execution_count": 3,
   "id": "c5e6636a",
   "metadata": {},
   "outputs": [],
   "source": [
    "with open('./pickle/lapZeroBrownSpot.pickle', 'rb') as handle:\n",
    "    lapZeroBrownSpot = pickle.load(handle)\n",
    "    \n",
    "with open('./pickle/lapZeroHealthy.pickle', 'rb') as handle:\n",
    "    lapZeroHealthy = pickle.load(handle)\n",
    "    \n",
    "with open('./pickle/lapZeroHispa.pickle', 'rb') as handle:\n",
    "    lapZeroHispa = pickle.load(handle)\n",
    "    \n",
    "with open('./pickle/lapZeroLeafBlast.pickle', 'rb') as handle:\n",
    "    lapZeroLeafBlast = pickle.load(handle)\n",
    "\n",
    "with open('./pickle/lapOneBrownSpot.pickle', 'rb') as handle:\n",
    "    lapOneBrownSpot = pickle.load(handle)\n",
    "    \n",
    "with open('./pickle/lapOneHealthy.pickle', 'rb') as handle:\n",
    "    lapOneHealthy = pickle.load(handle)\n",
    "    \n",
    "with open('./pickle/lapOneHispa.pickle', 'rb') as handle:\n",
    "    lapOneHispa = pickle.load(handle)\n",
    "    \n",
    "with open('./pickle/lapOneLeafBlast.pickle', 'rb') as handle:\n",
    "    lapOneLeafBlast = pickle.load(handle)\n",
    "    \n",
    "with open('./pickle/lapTwoBrownSpot.pickle', 'rb') as handle:\n",
    "    lapTwoBrownSpot = pickle.load(handle)\n",
    "    \n",
    "with open('./pickle/lapTwoHealthy.pickle', 'rb') as handle:\n",
    "    lapTwoHealthy = pickle.load(handle)\n",
    "    \n",
    "with open('./pickle/lapTwoHispa.pickle', 'rb') as handle:\n",
    "    lapTwoHispa = pickle.load(handle)\n",
    "    \n",
    "with open('./pickle/lapTwoLeafBlast.pickle', 'rb') as handle:\n",
    "    lapTwoLeafBlast = pickle.load(handle)\n",
    "    \n",
    "with open('./pickle/areaBrownSpot.pickle', 'rb') as handle:\n",
    "    areaBrownSpot = pickle.load(handle)\n",
    "    \n",
    "with open('./pickle/areaHealthy.pickle', 'rb') as handle:\n",
    "    areaHealthy = pickle.load(handle)\n",
    "    \n",
    "with open('./pickle/areaHispa.pickle', 'rb') as handle:\n",
    "    areaHispa = pickle.load(handle)\n",
    "    \n",
    "with open('./pickle/areaLeafBlast.pickle', 'rb') as handle:\n",
    "    areaLeafBlast = pickle.load(handle)\n",
    "    \n",
    "with open('./pickle/perimeterBrownSpot.pickle', 'rb') as handle:\n",
    "    perimeterBrownSpot = pickle.load(handle)\n",
    "    \n",
    "with open('./pickle/perimeterHealthy.pickle', 'rb') as handle:\n",
    "    perimeterHealthy = pickle.load(handle)\n",
    "    \n",
    "with open('./pickle/perimeterHispa.pickle', 'rb') as handle:\n",
    "    perimeterHispa = pickle.load(handle)\n",
    "    \n",
    "with open('./pickle/perimeterLeafBlast.pickle', 'rb') as handle:\n",
    "    perimeterLeafBlast = pickle.load(handle)"
   ]
  },
  {
   "cell_type": "code",
   "execution_count": 4,
   "id": "b6f3d7e6",
   "metadata": {},
   "outputs": [],
   "source": [
    "features = []\n",
    "\n",
    "target = []\n",
    "\n",
    "for i in range(523):\n",
    "    features.append([lapZeroBrownSpot[i], lapOneBrownSpot[i], lapTwoBrownSpot[i], areaBrownSpot[i], perimeterBrownSpot[i]])\n",
    "    target.append(0)\n",
    "    features.append([lapZeroHealthy[i], lapOneHealthy[i], lapTwoHealthy[i], areaHealthy[i], perimeterHealthy[i]])\n",
    "    target.append(1)\n",
    "    features.append([lapZeroHispa[i], lapOneHispa[i], lapTwoHispa[i], areaHispa[i], perimeterHispa[i]])\n",
    "    target.append(2)\n",
    "    features.append([lapZeroLeafBlast[i], lapOneLeafBlast[i], lapTwoLeafBlast[i], areaLeafBlast[i], perimeterLeafBlast[i]])\n",
    "    target.append(3)"
   ]
  },
  {
   "cell_type": "code",
   "execution_count": 5,
   "id": "c570133e",
   "metadata": {},
   "outputs": [
    {
     "name": "stdout",
     "output_type": "stream",
     "text": [
      "<class 'list'>\n",
      "<class 'list'>\n"
     ]
    }
   ],
   "source": [
    "print(type(features))\n",
    "print(type(target))"
   ]
  },
  {
   "cell_type": "code",
   "execution_count": 6,
   "id": "ad7fbaab",
   "metadata": {},
   "outputs": [],
   "source": [
    "features = np.array(features)\n",
    "target = np.array(target)"
   ]
  },
  {
   "cell_type": "code",
   "execution_count": 7,
   "id": "3f1fef4c",
   "metadata": {},
   "outputs": [
    {
     "name": "stdout",
     "output_type": "stream",
     "text": [
      "<class 'numpy.ndarray'>\n",
      "<class 'numpy.ndarray'>\n"
     ]
    }
   ],
   "source": [
    "print(type(features))\n",
    "print(type(target))"
   ]
  },
  {
   "cell_type": "code",
   "execution_count": 8,
   "id": "7c4bb22f",
   "metadata": {},
   "outputs": [],
   "source": [
    "dataframe = pd.DataFrame({\n",
    "    'laplacian zero':features[:,0],\n",
    "    'laplacian one':features[:,1],\n",
    "    'laplacian two':features[:,2],\n",
    "    'area':features[:,3],\n",
    "    'perimeter':features[:, 4],\n",
    "    'class':target[:]\n",
    "})"
   ]
  },
  {
   "cell_type": "code",
   "execution_count": 19,
   "id": "9df3ea01",
   "metadata": {},
   "outputs": [
    {
     "data": {
      "text/html": [
       "<div>\n",
       "<style scoped>\n",
       "    .dataframe tbody tr th:only-of-type {\n",
       "        vertical-align: middle;\n",
       "    }\n",
       "\n",
       "    .dataframe tbody tr th {\n",
       "        vertical-align: top;\n",
       "    }\n",
       "\n",
       "    .dataframe thead th {\n",
       "        text-align: right;\n",
       "    }\n",
       "</style>\n",
       "<table border=\"1\" class=\"dataframe\">\n",
       "  <thead>\n",
       "    <tr style=\"text-align: right;\">\n",
       "      <th></th>\n",
       "      <th>laplacian zero</th>\n",
       "      <th>laplacian one</th>\n",
       "      <th>laplacian two</th>\n",
       "      <th>area</th>\n",
       "      <th>perimeter</th>\n",
       "      <th>class</th>\n",
       "    </tr>\n",
       "  </thead>\n",
       "  <tbody>\n",
       "    <tr>\n",
       "      <th>0</th>\n",
       "      <td>0.099031</td>\n",
       "      <td>0.049977</td>\n",
       "      <td>0.148362</td>\n",
       "      <td>0.000001</td>\n",
       "      <td>0.000024</td>\n",
       "      <td>0</td>\n",
       "    </tr>\n",
       "    <tr>\n",
       "      <th>1</th>\n",
       "      <td>0.024356</td>\n",
       "      <td>0.031874</td>\n",
       "      <td>0.190584</td>\n",
       "      <td>0.257252</td>\n",
       "      <td>0.070443</td>\n",
       "      <td>1</td>\n",
       "    </tr>\n",
       "    <tr>\n",
       "      <th>2</th>\n",
       "      <td>0.304121</td>\n",
       "      <td>0.081439</td>\n",
       "      <td>0.320941</td>\n",
       "      <td>0.438996</td>\n",
       "      <td>0.101491</td>\n",
       "      <td>2</td>\n",
       "    </tr>\n",
       "    <tr>\n",
       "      <th>3</th>\n",
       "      <td>0.026086</td>\n",
       "      <td>0.145992</td>\n",
       "      <td>0.166664</td>\n",
       "      <td>0.035548</td>\n",
       "      <td>0.134743</td>\n",
       "      <td>3</td>\n",
       "    </tr>\n",
       "    <tr>\n",
       "      <th>4</th>\n",
       "      <td>0.255132</td>\n",
       "      <td>0.133382</td>\n",
       "      <td>0.366860</td>\n",
       "      <td>0.000062</td>\n",
       "      <td>0.000680</td>\n",
       "      <td>0</td>\n",
       "    </tr>\n",
       "    <tr>\n",
       "      <th>...</th>\n",
       "      <td>...</td>\n",
       "      <td>...</td>\n",
       "      <td>...</td>\n",
       "      <td>...</td>\n",
       "      <td>...</td>\n",
       "      <td>...</td>\n",
       "    </tr>\n",
       "    <tr>\n",
       "      <th>2087</th>\n",
       "      <td>0.064451</td>\n",
       "      <td>0.159072</td>\n",
       "      <td>0.024322</td>\n",
       "      <td>0.002420</td>\n",
       "      <td>0.006402</td>\n",
       "      <td>3</td>\n",
       "    </tr>\n",
       "    <tr>\n",
       "      <th>2088</th>\n",
       "      <td>0.094461</td>\n",
       "      <td>0.143308</td>\n",
       "      <td>0.020287</td>\n",
       "      <td>0.000123</td>\n",
       "      <td>0.001112</td>\n",
       "      <td>0</td>\n",
       "    </tr>\n",
       "    <tr>\n",
       "      <th>2089</th>\n",
       "      <td>0.569517</td>\n",
       "      <td>0.191904</td>\n",
       "      <td>0.028097</td>\n",
       "      <td>0.000006</td>\n",
       "      <td>0.000160</td>\n",
       "      <td>1</td>\n",
       "    </tr>\n",
       "    <tr>\n",
       "      <th>2090</th>\n",
       "      <td>0.123071</td>\n",
       "      <td>0.084630</td>\n",
       "      <td>0.193976</td>\n",
       "      <td>0.000041</td>\n",
       "      <td>0.079736</td>\n",
       "      <td>2</td>\n",
       "    </tr>\n",
       "    <tr>\n",
       "      <th>2091</th>\n",
       "      <td>0.151934</td>\n",
       "      <td>0.256658</td>\n",
       "      <td>0.028217</td>\n",
       "      <td>0.000173</td>\n",
       "      <td>0.107651</td>\n",
       "      <td>3</td>\n",
       "    </tr>\n",
       "  </tbody>\n",
       "</table>\n",
       "<p>2092 rows × 6 columns</p>\n",
       "</div>"
      ],
      "text/plain": [
       "      laplacian zero  laplacian one  laplacian two      area  perimeter  class\n",
       "0           0.099031       0.049977       0.148362  0.000001   0.000024      0\n",
       "1           0.024356       0.031874       0.190584  0.257252   0.070443      1\n",
       "2           0.304121       0.081439       0.320941  0.438996   0.101491      2\n",
       "3           0.026086       0.145992       0.166664  0.035548   0.134743      3\n",
       "4           0.255132       0.133382       0.366860  0.000062   0.000680      0\n",
       "...              ...            ...            ...       ...        ...    ...\n",
       "2087        0.064451       0.159072       0.024322  0.002420   0.006402      3\n",
       "2088        0.094461       0.143308       0.020287  0.000123   0.001112      0\n",
       "2089        0.569517       0.191904       0.028097  0.000006   0.000160      1\n",
       "2090        0.123071       0.084630       0.193976  0.000041   0.079736      2\n",
       "2091        0.151934       0.256658       0.028217  0.000173   0.107651      3\n",
       "\n",
       "[2092 rows x 6 columns]"
      ]
     },
     "execution_count": 19,
     "metadata": {},
     "output_type": "execute_result"
    }
   ],
   "source": [
    "dataframe"
   ]
  },
  {
   "cell_type": "code",
   "execution_count": 10,
   "id": "88bbbfcd",
   "metadata": {},
   "outputs": [
    {
     "name": "stdout",
     "output_type": "stream",
     "text": [
      "3110861.0\n",
      "0.0\n"
     ]
    }
   ],
   "source": [
    "# minimum maximum value before normalization\n",
    "column = 'area'\n",
    "max_value = dataframe[column].max()\n",
    "min_value = dataframe[column].min()\n",
    "\n",
    "# Print the results\n",
    "print(max_value)\n",
    "print(min_value)"
   ]
  },
  {
   "cell_type": "code",
   "execution_count": 11,
   "id": "4fb03173",
   "metadata": {},
   "outputs": [],
   "source": [
    "# normalize the dataset\n",
    "features = dataframe.drop('class', axis=1)\n",
    "columnsName = features.columns\n",
    "columnsName = columnsName.tolist()\n",
    "scaler = MinMaxScaler()\n",
    "dataframe[columnsName] = scaler.fit_transform(dataframe[columnsName])"
   ]
  },
  {
   "cell_type": "code",
   "execution_count": 12,
   "id": "a0313f0c",
   "metadata": {},
   "outputs": [
    {
     "name": "stdout",
     "output_type": "stream",
     "text": [
      "1.0\n",
      "0.0\n"
     ]
    }
   ],
   "source": [
    "# minimum maximum value before normalization\n",
    "column = 'area'\n",
    "max_value = dataframe[column].max()\n",
    "min_value = dataframe[column].min()\n",
    "\n",
    "# Print the results\n",
    "print(max_value)\n",
    "print(min_value)"
   ]
  },
  {
   "cell_type": "code",
   "execution_count": 13,
   "id": "0a39967f",
   "metadata": {},
   "outputs": [],
   "source": [
    "features = dataframe.drop(columns = ['class'])\n",
    "target = dataframe['class']"
   ]
  },
  {
   "cell_type": "code",
   "execution_count": 23,
   "id": "e2dc998e",
   "metadata": {},
   "outputs": [
    {
     "name": "stdout",
     "output_type": "stream",
     "text": [
      "Best alpha:  0.01\n"
     ]
    }
   ],
   "source": [
    "lasso = Lasso()\n",
    "\n",
    "allPossibleAlpha = [0.01, 0.1, 1.0]\n",
    "\n",
    "\n",
    "param_grid = {'alpha': allPossibleAlpha}\n",
    "\n",
    "scorer = make_scorer(accuracy_score)\n",
    "\n",
    "grid_search = GridSearchCV(lasso, param_grid, scoring=scorer, cv=5)\n",
    "\n",
    "# Fit the GridSearchCV to the data\n",
    "grid_search.fit(features, target)\n",
    "\n",
    "best_alpha = grid_search.best_params_['alpha']\n",
    "best_score = grid_search.best_score_\n",
    "print(\"Best alpha: \", best_alpha)"
   ]
  },
  {
   "cell_type": "code",
   "execution_count": 24,
   "id": "e8f25527",
   "metadata": {},
   "outputs": [
    {
     "data": {
      "text/html": [
       "<style>#sk-container-id-3 {color: black;}#sk-container-id-3 pre{padding: 0;}#sk-container-id-3 div.sk-toggleable {background-color: white;}#sk-container-id-3 label.sk-toggleable__label {cursor: pointer;display: block;width: 100%;margin-bottom: 0;padding: 0.3em;box-sizing: border-box;text-align: center;}#sk-container-id-3 label.sk-toggleable__label-arrow:before {content: \"▸\";float: left;margin-right: 0.25em;color: #696969;}#sk-container-id-3 label.sk-toggleable__label-arrow:hover:before {color: black;}#sk-container-id-3 div.sk-estimator:hover label.sk-toggleable__label-arrow:before {color: black;}#sk-container-id-3 div.sk-toggleable__content {max-height: 0;max-width: 0;overflow: hidden;text-align: left;background-color: #f0f8ff;}#sk-container-id-3 div.sk-toggleable__content pre {margin: 0.2em;color: black;border-radius: 0.25em;background-color: #f0f8ff;}#sk-container-id-3 input.sk-toggleable__control:checked~div.sk-toggleable__content {max-height: 200px;max-width: 100%;overflow: auto;}#sk-container-id-3 input.sk-toggleable__control:checked~label.sk-toggleable__label-arrow:before {content: \"▾\";}#sk-container-id-3 div.sk-estimator input.sk-toggleable__control:checked~label.sk-toggleable__label {background-color: #d4ebff;}#sk-container-id-3 div.sk-label input.sk-toggleable__control:checked~label.sk-toggleable__label {background-color: #d4ebff;}#sk-container-id-3 input.sk-hidden--visually {border: 0;clip: rect(1px 1px 1px 1px);clip: rect(1px, 1px, 1px, 1px);height: 1px;margin: -1px;overflow: hidden;padding: 0;position: absolute;width: 1px;}#sk-container-id-3 div.sk-estimator {font-family: monospace;background-color: #f0f8ff;border: 1px dotted black;border-radius: 0.25em;box-sizing: border-box;margin-bottom: 0.5em;}#sk-container-id-3 div.sk-estimator:hover {background-color: #d4ebff;}#sk-container-id-3 div.sk-parallel-item::after {content: \"\";width: 100%;border-bottom: 1px solid gray;flex-grow: 1;}#sk-container-id-3 div.sk-label:hover label.sk-toggleable__label {background-color: #d4ebff;}#sk-container-id-3 div.sk-serial::before {content: \"\";position: absolute;border-left: 1px solid gray;box-sizing: border-box;top: 0;bottom: 0;left: 50%;z-index: 0;}#sk-container-id-3 div.sk-serial {display: flex;flex-direction: column;align-items: center;background-color: white;padding-right: 0.2em;padding-left: 0.2em;position: relative;}#sk-container-id-3 div.sk-item {position: relative;z-index: 1;}#sk-container-id-3 div.sk-parallel {display: flex;align-items: stretch;justify-content: center;background-color: white;position: relative;}#sk-container-id-3 div.sk-item::before, #sk-container-id-3 div.sk-parallel-item::before {content: \"\";position: absolute;border-left: 1px solid gray;box-sizing: border-box;top: 0;bottom: 0;left: 50%;z-index: -1;}#sk-container-id-3 div.sk-parallel-item {display: flex;flex-direction: column;z-index: 1;position: relative;background-color: white;}#sk-container-id-3 div.sk-parallel-item:first-child::after {align-self: flex-end;width: 50%;}#sk-container-id-3 div.sk-parallel-item:last-child::after {align-self: flex-start;width: 50%;}#sk-container-id-3 div.sk-parallel-item:only-child::after {width: 0;}#sk-container-id-3 div.sk-dashed-wrapped {border: 1px dashed gray;margin: 0 0.4em 0.5em 0.4em;box-sizing: border-box;padding-bottom: 0.4em;background-color: white;}#sk-container-id-3 div.sk-label label {font-family: monospace;font-weight: bold;display: inline-block;line-height: 1.2em;}#sk-container-id-3 div.sk-label-container {text-align: center;}#sk-container-id-3 div.sk-container {/* jupyter's `normalize.less` sets `[hidden] { display: none; }` but bootstrap.min.css set `[hidden] { display: none !important; }` so we also need the `!important` here to be able to override the default hidden behavior on the sphinx rendered scikit-learn.org. See: https://github.com/scikit-learn/scikit-learn/issues/21755 */display: inline-block !important;position: relative;}#sk-container-id-3 div.sk-text-repr-fallback {display: none;}</style><div id=\"sk-container-id-3\" class=\"sk-top-container\"><div class=\"sk-text-repr-fallback\"><pre>Lasso(alpha=0.01, random_state=42)</pre><b>In a Jupyter environment, please rerun this cell to show the HTML representation or trust the notebook. <br />On GitHub, the HTML representation is unable to render, please try loading this page with nbviewer.org.</b></div><div class=\"sk-container\" hidden><div class=\"sk-item\"><div class=\"sk-estimator sk-toggleable\"><input class=\"sk-toggleable__control sk-hidden--visually\" id=\"sk-estimator-id-3\" type=\"checkbox\" checked><label for=\"sk-estimator-id-3\" class=\"sk-toggleable__label sk-toggleable__label-arrow\">Lasso</label><div class=\"sk-toggleable__content\"><pre>Lasso(alpha=0.01, random_state=42)</pre></div></div></div></div></div>"
      ],
      "text/plain": [
       "Lasso(alpha=0.01, random_state=42)"
      ]
     },
     "execution_count": 24,
     "metadata": {},
     "output_type": "execute_result"
    }
   ],
   "source": [
    "lasso1 = Lasso(alpha=best_alpha, random_state=42)\n",
    "lasso1.fit(features, target)"
   ]
  },
  {
   "cell_type": "code",
   "execution_count": 25,
   "id": "54e865fa",
   "metadata": {},
   "outputs": [
    {
     "name": "stdout",
     "output_type": "stream",
     "text": [
      "[-0.45651531 -1.53913115  0.48224211  0.          0.        ]\n"
     ]
    }
   ],
   "source": [
    "print(lasso1.coef_)"
   ]
  },
  {
   "cell_type": "code",
   "execution_count": 26,
   "id": "3668dee8",
   "metadata": {},
   "outputs": [
    {
     "name": "stdout",
     "output_type": "stream",
     "text": [
      "Index(['laplacian zero', 'laplacian one', 'laplacian two', 'area',\n",
      "       'perimeter'],\n",
      "      dtype='object')\n"
     ]
    }
   ],
   "source": [
    "print(features.columns)"
   ]
  },
  {
   "cell_type": "code",
   "execution_count": 27,
   "id": "42b7c10b",
   "metadata": {},
   "outputs": [
    {
     "data": {
      "image/png": "[encoded data removed]",
      "text/plain": [
       "<Figure size 640x480 with 1 Axes>"
      ]
     },
     "metadata": {},
     "output_type": "display_data"
    }
   ],
   "source": [
    "# plotting the features names and their corresponding importance assigned by lasso \n",
    "plt.bar(features.columns, lasso1.coef_)\n",
    "plt.xticks(rotation=90)\n",
    "plt.grid()\n",
    "plt.title(\"Selected Features by Lasso with their corresponding importance\")\n",
    "plt.xlabel(\"Features\")\n",
    "plt.ylabel(\"Importance\")\n",
    "plt.ylim(-2, 2)\n",
    "plt.show()"
   ]
  },
  {
   "cell_type": "code",
   "execution_count": null,
   "id": "0905347f",
   "metadata": {},
   "outputs": [],
   "source": []
  }
 ],
 "metadata": {
  "kernelspec": {
   "display_name": "Python 3 (ipykernel)",
   "language": "python",
   "name": "python3"
  },
  "language_info": {
   "codemirror_mode": {
    "name": "ipython",
    "version": 3
   },
   "file_extension": ".py",
   "mimetype": "text/x-python",
   "name": "python",
   "nbconvert_exporter": "python",
   "pygments_lexer": "ipython3",
   "version": "3.11.4"
  }
 },
 "nbformat": 4,
 "nbformat_minor": 5
}
