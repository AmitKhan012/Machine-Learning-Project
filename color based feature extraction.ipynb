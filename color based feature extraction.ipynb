{
 "cells": [
  {
   "cell_type": "code",
   "execution_count": 1,
   "id": "dfd1b9b6",
   "metadata": {},
   "outputs": [],
   "source": [
    "# in this program we will extract laplacian based features from images\n",
    "# those images belong in four classes: BrownSpot, Healthy, Hispa, LeafBlast\n",
    "# laplacian based features are based on color \n",
    "# three diseases that we are tring to detect have symptoms which are maily spots on rice leaves\n",
    "# those spots have different different color"
   ]
  },
  {
   "cell_type": "code",
   "execution_count": 2,
   "id": "10efb596",
   "metadata": {},
   "outputs": [],
   "source": [
    "import warnings\n",
    "warnings.filterwarnings(\"ignore\")"
   ]
  },
  {
   "cell_type": "code",
   "execution_count": 3,
   "id": "64d59145",
   "metadata": {},
   "outputs": [],
   "source": [
    "import numpy as np\n",
    "from PIL import Image\n",
    "import glob\n",
    "import scipy.ndimage.filters\n",
    "import pickle\n",
    "import matplotlib.pyplot as plt"
   ]
  },
  {
   "cell_type": "code",
   "execution_count": 4,
   "id": "eb6bb47d",
   "metadata": {},
   "outputs": [],
   "source": [
    "imagesBrownspot = []"
   ]
  },
  {
   "cell_type": "code",
   "execution_count": 5,
   "id": "dd7b448a",
   "metadata": {},
   "outputs": [],
   "source": [
    "for f in glob.glob('./dataset/BrownSpot/*.jpg'):\n",
    "    imageBrownspot = Image.open(f)\n",
    "    imagesBrownspot.append(imageBrownspot.copy())\n",
    "    imageBrownspot.close()"
   ]
  },
  {
   "cell_type": "code",
   "execution_count": 6,
   "id": "0f33285d",
   "metadata": {},
   "outputs": [],
   "source": [
    "lapZeroBrownspot = []\n",
    "lapOneBrownspot = []\n",
    "lapTwoBrownspot = []"
   ]
  },
  {
   "cell_type": "code",
   "execution_count": 7,
   "id": "47844dd6",
   "metadata": {},
   "outputs": [],
   "source": [
    "for image in imagesBrownspot:\n",
    "    laplacian = scipy.ndimage.filters.laplace(image)\n",
    "    \n",
    "    laplacianZeroMatrix = np.matrix(laplacian[:,:,0])\n",
    "    laplacianOneMatrix = np.matrix(laplacian[:,:,1])\n",
    "    laplacianTwoMatrix = np.matrix(laplacian[:,:,2])\n",
    "\n",
    "    lapZeroBrownspot.append(laplacianZeroMatrix.sum())\n",
    "    lapOneBrownspot.append(laplacianOneMatrix.sum())\n",
    "    lapTwoBrownspot.append(laplacianTwoMatrix.sum())"
   ]
  },
  {
   "cell_type": "code",
   "execution_count": 8,
   "id": "4273ad61",
   "metadata": {},
   "outputs": [],
   "source": [
    "imagesHealthy = []"
   ]
  },
  {
   "cell_type": "code",
   "execution_count": 9,
   "id": "31afb348",
   "metadata": {},
   "outputs": [],
   "source": [
    "for f in glob.glob('./dataset/Healthy/*.jpg'):\n",
    "    imageHealthy = Image.open(f)\n",
    "    imagesHealthy.append(imageHealthy.copy())\n",
    "    imageHealthy.close()"
   ]
  },
  {
   "cell_type": "code",
   "execution_count": 10,
   "id": "22e702b9",
   "metadata": {},
   "outputs": [],
   "source": [
    "lapZeroHealthy = []\n",
    "lapOneHealthy = []\n",
    "lapTwoHealthy = []"
   ]
  },
  {
   "cell_type": "code",
   "execution_count": 11,
   "id": "0145b38c",
   "metadata": {},
   "outputs": [],
   "source": [
    "for image in imagesHealthy:\n",
    "    laplacian = scipy.ndimage.filters.laplace(image)\n",
    "    \n",
    "    laplacianZeroMatrix = np.matrix(laplacian[:,:,0])\n",
    "    laplacianOneMatrix = np.matrix(laplacian[:,:,1])\n",
    "    laplacianTwoMatrix = np.matrix(laplacian[:,:,2])\n",
    "\n",
    "    lapZeroHealthy.append(laplacianZeroMatrix.sum())\n",
    "    lapOneHealthy.append(laplacianOneMatrix.sum())\n",
    "    lapTwoHealthy.append(laplacianTwoMatrix.sum())"
   ]
  },
  {
   "cell_type": "code",
   "execution_count": 12,
   "id": "a2b59c20",
   "metadata": {},
   "outputs": [],
   "source": [
    "imagesHispa = []"
   ]
  },
  {
   "cell_type": "code",
   "execution_count": 13,
   "id": "80f0bca2",
   "metadata": {},
   "outputs": [],
   "source": [
    "for f in glob.glob('./dataset/Hispa/*.jpg'):\n",
    "    imageHispa = Image.open(f)\n",
    "    imagesHispa.append(imageHispa.copy())\n",
    "    imageHispa.close()"
   ]
  },
  {
   "cell_type": "code",
   "execution_count": 14,
   "id": "ad41fa78",
   "metadata": {},
   "outputs": [],
   "source": [
    "lapZeroHispa = []\n",
    "lapOneHispa = []\n",
    "lapTwoHispa = []"
   ]
  },
  {
   "cell_type": "code",
   "execution_count": 15,
   "id": "17618707",
   "metadata": {},
   "outputs": [],
   "source": [
    "for image in imagesHispa:\n",
    "    laplacian = scipy.ndimage.filters.laplace(image)\n",
    "    \n",
    "    laplacianZeroMatrix = np.matrix(laplacian[:,:,0])\n",
    "    laplacianOneMatrix = np.matrix(laplacian[:,:,1])\n",
    "    laplacianTwoMatrix = np.matrix(laplacian[:,:,2])\n",
    "\n",
    "    lapZeroHispa.append(laplacianZeroMatrix.sum())\n",
    "    lapOneHispa.append(laplacianOneMatrix.sum())\n",
    "    lapTwoHispa.append(laplacianTwoMatrix.sum())"
   ]
  },
  {
   "cell_type": "code",
   "execution_count": 16,
   "id": "40ae9cc6",
   "metadata": {},
   "outputs": [],
   "source": [
    "imagesLeafBlast = []"
   ]
  },
  {
   "cell_type": "code",
   "execution_count": 17,
   "id": "6bbf9396",
   "metadata": {},
   "outputs": [],
   "source": [
    "for f in glob.glob('./dataset/LeafBlast/*.jpg'):\n",
    "    imageLeafBlast = Image.open(f)\n",
    "    imagesLeafBlast.append(imageLeafBlast.copy())\n",
    "    imageLeafBlast.close()"
   ]
  },
  {
   "cell_type": "code",
   "execution_count": 18,
   "id": "f1c8e877",
   "metadata": {},
   "outputs": [],
   "source": [
    "lapZeroLeafBlast = []\n",
    "lapOneLeafBlast = []\n",
    "lapTwoLeafBlast = []"
   ]
  },
  {
   "cell_type": "code",
   "execution_count": 19,
   "id": "ed1343b7",
   "metadata": {},
   "outputs": [],
   "source": [
    "for image in imagesLeafBlast:\n",
    "    laplacian = scipy.ndimage.filters.laplace(image)\n",
    "    \n",
    "    laplacianZeroMatrix = np.matrix(laplacian[:,:,0])\n",
    "    laplacianOneMatrix = np.matrix(laplacian[:,:,1])\n",
    "    laplacianTwoMatrix = np.matrix(laplacian[:,:,2])\n",
    "\n",
    "    lapZeroLeafBlast.append(laplacianZeroMatrix.sum())\n",
    "    lapOneLeafBlast.append(laplacianOneMatrix.sum())\n",
    "    lapTwoLeafBlast.append(laplacianTwoMatrix.sum())"
   ]
  },
  {
   "cell_type": "code",
   "execution_count": 20,
   "id": "117c46fb",
   "metadata": {},
   "outputs": [],
   "source": [
    "# now I will store all the color based extraced features in pickle files"
   ]
  },
  {
   "cell_type": "code",
   "execution_count": 21,
   "id": "53d431a7",
   "metadata": {},
   "outputs": [],
   "source": [
    "with open('./pickle/lapZeroBrownspot.pickle', 'wb') as handle:\n",
    "    pickle.dump(lapZeroBrownspot, handle, protocol=pickle.HIGHEST_PROTOCOL)\n",
    "\n",
    "with open('./pickle/lapOneBrownspot.pickle', 'wb') as handle:\n",
    "    pickle.dump(lapOneBrownspot, handle, protocol=pickle.HIGHEST_PROTOCOL)\n",
    "    \n",
    "with open('./pickle/lapTwoBrownspot.pickle', 'wb') as handle:\n",
    "    pickle.dump(lapTwoBrownspot, handle, protocol=pickle.HIGHEST_PROTOCOL)\n",
    "    \n",
    "with open('./pickle/lapZeroHealthy.pickle', 'wb') as handle:\n",
    "    pickle.dump(lapZeroHealthy, handle, protocol=pickle.HIGHEST_PROTOCOL)\n",
    "\n",
    "with open('./pickle/lapOneHealthy.pickle', 'wb') as handle:\n",
    "    pickle.dump(lapOneHealthy, handle, protocol=pickle.HIGHEST_PROTOCOL)\n",
    "    \n",
    "with open('./pickle/lapTwoHealthy.pickle', 'wb') as handle:\n",
    "    pickle.dump(lapTwoHealthy, handle, protocol=pickle.HIGHEST_PROTOCOL)\n",
    "\n",
    "with open('./pickle/lapZeroHispa.pickle', 'wb') as handle:\n",
    "    pickle.dump(lapZeroHispa, handle, protocol=pickle.HIGHEST_PROTOCOL)\n",
    "\n",
    "with open('./pickle/lapOneHispa.pickle', 'wb') as handle:\n",
    "    pickle.dump(lapOneHispa, handle, protocol=pickle.HIGHEST_PROTOCOL)\n",
    "    \n",
    "with open('./pickle/lapTwoHispa.pickle', 'wb') as handle:\n",
    "    pickle.dump(lapTwoHispa, handle, protocol=pickle.HIGHEST_PROTOCOL)\n",
    "    \n",
    "with open('./pickle/lapZeroLeafBlast.pickle', 'wb') as handle:\n",
    "    pickle.dump(lapZeroLeafBlast, handle, protocol=pickle.HIGHEST_PROTOCOL)\n",
    "\n",
    "with open('./pickle/lapOneLeafBlast.pickle', 'wb') as handle:\n",
    "    pickle.dump(lapOneLeafBlast, handle, protocol=pickle.HIGHEST_PROTOCOL)\n",
    "    \n",
    "with open('./pickle/lapTwoLeafBlast.pickle', 'wb') as handle:\n",
    "    pickle.dump(lapTwoLeafBlast, handle, protocol=pickle.HIGHEST_PROTOCOL)"
   ]
  },
  {
   "cell_type": "code",
   "execution_count": null,
   "id": "cf786fed",
   "metadata": {},
   "outputs": [],
   "source": []
  }
 ],
 "metadata": {
  "kernelspec": {
   "display_name": "Python 3 (ipykernel)",
   "language": "python",
   "name": "python3"
  },
  "language_info": {
   "codemirror_mode": {
    "name": "ipython",
    "version": 3
   },
   "file_extension": ".py",
   "mimetype": "text/x-python",
   "name": "python",
   "nbconvert_exporter": "python",
   "pygments_lexer": "ipython3",
   "version": "3.11.4"
  }
 },
 "nbformat": 4,
 "nbformat_minor": 5
}
