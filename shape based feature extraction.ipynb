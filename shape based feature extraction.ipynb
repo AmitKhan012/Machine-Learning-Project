{
 "cells": [
  {
   "cell_type": "code",
   "execution_count": 1,
   "id": "351d22d7",
   "metadata": {},
   "outputs": [],
   "source": [
    "# importing the libraries"
   ]
  },
  {
   "cell_type": "code",
   "execution_count": 2,
   "id": "d3478691",
   "metadata": {},
   "outputs": [],
   "source": [
    "import numpy as np\n",
    "import cv2\n",
    "import glob\n",
    "import pickle"
   ]
  },
  {
   "cell_type": "code",
   "execution_count": 3,
   "id": "74b205df",
   "metadata": {},
   "outputs": [],
   "source": [
    "lowerBound = np.array([22, 42, 0])\n",
    "upperBound = np.array([179, 255, 255])"
   ]
  },
  {
   "cell_type": "code",
   "execution_count": 8,
   "id": "1d36a69a",
   "metadata": {},
   "outputs": [],
   "source": [
    "Path = \"dataset/BrownSpot/*.jpg\"\n",
    "areaBrownSpot = []\n",
    "perimeterBrownSpot = []"
   ]
  },
  {
   "cell_type": "code",
   "execution_count": 9,
   "id": "b5546b42",
   "metadata": {},
   "outputs": [],
   "source": [
    "for f in glob.glob(Path):\n",
    "    img = cv2.imread(f)\n",
    "    hsvImg = cv2.cvtColor(img, cv2.COLOR_BGR2HSV)\n",
    "    # finding the contours functions better when it is applied to gray scale image\n",
    "    mask = cv2.inRange(hsvImg, lowerBound, upperBound) # converting into gray scale image by applying thresholding\n",
    "    # finding all the contours from the binary image\n",
    "    contours, hierarchy = cv2.findContours(mask, cv2.RETR_TREE, cv2.CHAIN_APPROX_SIMPLE)\n",
    "    firstArea = 0\n",
    "    secondArea = 0\n",
    "    perimeter = 0\n",
    "    # the following loop will find the contour with second largest area\n",
    "    # it will store the area and perimeter of that contour\n",
    "    for contour in contours:\n",
    "        area = cv2.contourArea(contour)\n",
    "        if firstArea < area:\n",
    "            secondArea = firstArea\n",
    "            firstArea = area\n",
    "            perimeter = cv2.arcLength(contour, True)\n",
    "        elif secondArea < area:\n",
    "            secondArea = area\n",
    "            perimeter = cv2.arcLength(contour, True)\n",
    "    areaBrownSpot.append(secondArea)\n",
    "    perimeterBrownSpot.append(perimeter)"
   ]
  },
  {
   "cell_type": "code",
   "execution_count": 11,
   "id": "bbf4320a",
   "metadata": {},
   "outputs": [
    {
     "name": "stdout",
     "output_type": "stream",
     "text": [
      "523\n",
      "523\n"
     ]
    }
   ],
   "source": [
    "print(len(areaBrownSpot))\n",
    "print(len(perimeterBrownSpot))"
   ]
  },
  {
   "cell_type": "code",
   "execution_count": 12,
   "id": "06a40916",
   "metadata": {},
   "outputs": [],
   "source": [
    "Path = \"dataset/Healthy/*.jpg\"\n",
    "areaHealthy = []\n",
    "perimeterHealthy = []"
   ]
  },
  {
   "cell_type": "code",
   "execution_count": 13,
   "id": "62450bdb",
   "metadata": {},
   "outputs": [],
   "source": [
    "for f in glob.glob(Path):\n",
    "    img = cv2.imread(f)\n",
    "    hsvImg = cv2.cvtColor(img, cv2.COLOR_BGR2HSV)\n",
    "    # finding the contours functions better when it is applied to gray scale image\n",
    "    mask = cv2.inRange(hsvImg, lowerBound, upperBound) # converting into gray scale image by applying thresholding\n",
    "    # finding all the contours from the binary image\n",
    "    contours, hierarchy = cv2.findContours(mask, cv2.RETR_TREE, cv2.CHAIN_APPROX_SIMPLE)\n",
    "    firstArea = 0\n",
    "    secondArea = 0\n",
    "    perimeter = 0\n",
    "    # the following loop will find the contour with second largest area\n",
    "    # it will store the area and perimeter of that contour\n",
    "    for contour in contours:\n",
    "        area = cv2.contourArea(contour)\n",
    "        if firstArea < area:\n",
    "            secondArea = firstArea\n",
    "            firstArea = area\n",
    "            perimeter = cv2.arcLength(contour, True)\n",
    "        elif secondArea < area:\n",
    "            secondArea = area\n",
    "            perimeter = cv2.arcLength(contour, True)\n",
    "    areaHealthy.append(secondArea)\n",
    "    perimeterHealthy.append(perimeter)"
   ]
  },
  {
   "cell_type": "code",
   "execution_count": 14,
   "id": "44ac16c7",
   "metadata": {},
   "outputs": [
    {
     "name": "stdout",
     "output_type": "stream",
     "text": [
      "523\n",
      "523\n"
     ]
    }
   ],
   "source": [
    "print(len(areaHealthy))\n",
    "print(len(perimeterHealthy))"
   ]
  },
  {
   "cell_type": "code",
   "execution_count": 15,
   "id": "d1b9d534",
   "metadata": {},
   "outputs": [],
   "source": [
    "Path = \"dataset/Hispa/*.jpg\"\n",
    "areaHispa = []\n",
    "perimeterHispa = []"
   ]
  },
  {
   "cell_type": "code",
   "execution_count": 16,
   "id": "f9bc5099",
   "metadata": {},
   "outputs": [],
   "source": [
    "for f in glob.glob(Path):\n",
    "    img = cv2.imread(f)\n",
    "    hsvImg = cv2.cvtColor(img, cv2.COLOR_BGR2HSV)\n",
    "    # finding the contours functions better when it is applied to gray scale image\n",
    "    mask = cv2.inRange(hsvImg, lowerBound, upperBound) # converting into gray scale image by applying thresholding\n",
    "    # finding all the contours from the binary image\n",
    "    contours, hierarchy = cv2.findContours(mask, cv2.RETR_TREE, cv2.CHAIN_APPROX_SIMPLE)\n",
    "    firstArea = 0\n",
    "    secondArea = 0\n",
    "    perimeter = 0\n",
    "    # the following loop will find the contour with second largest area\n",
    "    # it will store the area and perimeter of that contour\n",
    "    for contour in contours:\n",
    "        area = cv2.contourArea(contour)\n",
    "        if firstArea < area:\n",
    "            secondArea = firstArea\n",
    "            firstArea = area\n",
    "            perimeter = cv2.arcLength(contour, True)\n",
    "        elif secondArea < area:\n",
    "            secondArea = area\n",
    "            perimeter = cv2.arcLength(contour, True)\n",
    "    areaHispa.append(secondArea)\n",
    "    perimeterHispa.append(perimeter)"
   ]
  },
  {
   "cell_type": "code",
   "execution_count": 17,
   "id": "7b1b5dd3",
   "metadata": {},
   "outputs": [
    {
     "name": "stdout",
     "output_type": "stream",
     "text": [
      "523\n",
      "523\n"
     ]
    }
   ],
   "source": [
    "print(len(areaHispa))\n",
    "print(len(perimeterHispa))"
   ]
  },
  {
   "cell_type": "code",
   "execution_count": 18,
   "id": "9e61a74c",
   "metadata": {},
   "outputs": [],
   "source": [
    "Path = \"dataset/LeafBlast/*.jpg\"\n",
    "areaLeafBlast = []\n",
    "perimeterLeafBlast = []"
   ]
  },
  {
   "cell_type": "code",
   "execution_count": 19,
   "id": "4b6ebf9f",
   "metadata": {},
   "outputs": [],
   "source": [
    "for f in glob.glob(Path):\n",
    "    img = cv2.imread(f)\n",
    "    hsvImg = cv2.cvtColor(img, cv2.COLOR_BGR2HSV)\n",
    "    # finding the contours functions better when it is applied to gray scale image\n",
    "    mask = cv2.inRange(hsvImg, lowerBound, upperBound) # converting into gray scale image by applying thresholding\n",
    "    # finding all the contours from the binary image\n",
    "    contours, hierarchy = cv2.findContours(mask, cv2.RETR_TREE, cv2.CHAIN_APPROX_SIMPLE)\n",
    "    firstArea = 0\n",
    "    secondArea = 0\n",
    "    perimeter = 0\n",
    "    # the following loop will find the contour with second largest area\n",
    "    # it will store the area and perimeter of that contour\n",
    "    for contour in contours:\n",
    "        area = cv2.contourArea(contour)\n",
    "        if firstArea < area:\n",
    "            secondArea = firstArea\n",
    "            firstArea = area\n",
    "            perimeter = cv2.arcLength(contour, True)\n",
    "        elif secondArea < area:\n",
    "            secondArea = area\n",
    "            perimeter = cv2.arcLength(contour, True)\n",
    "    areaLeafBlast.append(secondArea)\n",
    "    perimeterLeafBlast.append(perimeter)"
   ]
  },
  {
   "cell_type": "code",
   "execution_count": 20,
   "id": "0ca8d19b",
   "metadata": {},
   "outputs": [
    {
     "name": "stdout",
     "output_type": "stream",
     "text": [
      "523\n",
      "523\n"
     ]
    }
   ],
   "source": [
    "print(len(areaLeafBlast))\n",
    "print(len(perimeterLeafBlast))"
   ]
  },
  {
   "cell_type": "code",
   "execution_count": 21,
   "id": "60e34530",
   "metadata": {},
   "outputs": [],
   "source": [
    "with open('./pickle/areaBrownSpot.pickle', 'wb') as handle:\n",
    "    pickle.dump(areaBrownSpot, handle, protocol=pickle.HIGHEST_PROTOCOL)\n",
    "    \n",
    "with open('./pickle/perimeterBrownSpot.pickle', 'wb') as handle:\n",
    "    pickle.dump(perimeterBrownSpot, handle, protocol=pickle.HIGHEST_PROTOCOL)\n",
    "    \n",
    "with open('./pickle/areaHealthy.pickle', 'wb') as handle:\n",
    "    pickle.dump(areaHealthy, handle, protocol=pickle.HIGHEST_PROTOCOL)\n",
    "    \n",
    "with open('./pickle/perimeterHealthy.pickle', 'wb') as handle:\n",
    "    pickle.dump(perimeterHealthy, handle, protocol=pickle.HIGHEST_PROTOCOL)\n",
    "    \n",
    "with open('./pickle/areaHispa.pickle', 'wb') as handle:\n",
    "    pickle.dump(areaHispa, handle, protocol=pickle.HIGHEST_PROTOCOL)\n",
    "    \n",
    "with open('./pickle/perimeterHispa.pickle', 'wb') as handle:\n",
    "    pickle.dump(perimeterHispa, handle, protocol=pickle.HIGHEST_PROTOCOL)\n",
    "    \n",
    "with open('./pickle/areaLeafBlast.pickle', 'wb') as handle:\n",
    "    pickle.dump(areaLeafBlast, handle, protocol=pickle.HIGHEST_PROTOCOL)\n",
    "    \n",
    "with open('./pickle/perimeterLeafBlast.pickle', 'wb') as handle:\n",
    "    pickle.dump(perimeterLeafBlast, handle, protocol=pickle.HIGHEST_PROTOCOL)"
   ]
  },
  {
   "cell_type": "code",
   "execution_count": null,
   "id": "4ec2b607",
   "metadata": {},
   "outputs": [],
   "source": []
  }
 ],
 "metadata": {
  "kernelspec": {
   "display_name": "Python 3 (ipykernel)",
   "language": "python",
   "name": "python3"
  },
  "language_info": {
   "codemirror_mode": {
    "name": "ipython",
    "version": 3
   },
   "file_extension": ".py",
   "mimetype": "text/x-python",
   "name": "python",
   "nbconvert_exporter": "python",
   "pygments_lexer": "ipython3",
   "version": "3.11.4"
  }
 },
 "nbformat": 4,
 "nbformat_minor": 5
}
